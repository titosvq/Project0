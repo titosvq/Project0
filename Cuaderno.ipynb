{
 "cells": [
  {
   "cell_type": "code",
   "execution_count": 3,
   "id": "a18e15ae-eb80-4ef6-9ebb-1c47f09ad1a3",
   "metadata": {},
   "outputs": [
    {
     "name": "stdout",
     "output_type": "stream",
     "text": [
      "True\n"
     ]
    }
   ],
   "source": [
    "print(3 > 2 and 4 < 5)\n"
   ]
  },
  {
   "cell_type": "code",
   "execution_count": 6,
   "id": "7ccae646-df4a-436f-a95d-5ba94155d382",
   "metadata": {},
   "outputs": [
    {
     "name": "stdout",
     "output_type": "stream",
     "text": [
      "True\n",
      "True\n"
     ]
    }
   ],
   "source": [
    "print(3 < 4 or (\"Hola\" > \"Python\" and 4 == 4))\n",
    "print(\"Hola\" < \"Python\" and 4 == 4)"
   ]
  },
  {
   "cell_type": "code",
   "execution_count": 5,
   "id": "8eb35dc8-cc1e-42e5-8a85-324e2b502746",
   "metadata": {},
   "outputs": [
    {
     "name": "stdout",
     "output_type": "stream",
     "text": [
      "6\n",
      "Mi nombre es adolfo lopez\n",
      "\tadolfo\n",
      "lopez\n"
     ]
    }
   ],
   "source": [
    "variable = \"adolfo\"\n",
    "print(len(variable))\n",
    "variable2 = \"lopez\"\n",
    "print(f'Mi nombre es {variable} {variable2}')\n",
    "print(\"\\tadolfo\\nlopez\")\n",
    "\n"
   ]
  },
  {
   "cell_type": "code",
   "execution_count": 3,
   "id": "2927e809-dba2-48fb-860e-ce6a3a9e1ca7",
   "metadata": {},
   "outputs": [
    {
     "name": "stdout",
     "output_type": "stream",
     "text": [
      "Hola me llamo Adolfo Lopez y tengo 36 anos\n",
      "Hola me llamo Adolfo Lopez y tengo 36 anos\n"
     ]
    }
   ],
   "source": [
    "nombre, apellido, edad = \"Adolfo\", \"Lopez\", 36\n",
    "print(\"Hola me llamo {} {} y tengo {} anos\".format(nombre, apellido, edad))\n",
    "print(\"Hola me llamo %s %s y tengo %d anos\" % (nombre, apellido, edad))"
   ]
  },
  {
   "cell_type": "code",
   "execution_count": 2,
   "id": "9a4a9e30",
   "metadata": {},
   "outputs": [
    {
     "name": "stdout",
     "output_type": "stream",
     "text": [
      "False\n"
     ]
    }
   ],
   "source": [
    "print(\"Que pasa peña\".startswith(\"Qué pasa\"))"
   ]
  },
  {
   "cell_type": "code",
   "execution_count": 1,
   "id": "15a440ba-9a40-4957-a163-5969604c2cc5",
   "metadata": {},
   "outputs": [
    {
     "name": "stdout",
     "output_type": "stream",
     "text": [
      "True\n"
     ]
    }
   ],
   "source": [
    "name = \"Adolfo\"\n",
    "print(name.startswith(\"Ad\"))\n"
   ]
  },
  {
   "cell_type": "code",
   "execution_count": 6,
   "id": "4351e9e9-77cf-40b4-b310-5eab6a8d3ab5",
   "metadata": {},
   "outputs": [
    {
     "name": "stdout",
     "output_type": "stream",
     "text": [
      "Probando subir a la nube\n"
     ]
    }
   ],
   "source": [
    "print(\"Probando subir a la nube\")"
   ]
  },
  {
   "cell_type": "code",
   "execution_count": null,
   "id": "520fb921",
   "metadata": {},
   "outputs": [],
   "source": []
  }
 ],
 "metadata": {
  "kernelspec": {
   "display_name": "Python 3",
   "language": "python",
   "name": "python3"
  },
  "language_info": {
   "codemirror_mode": {
    "name": "ipython",
    "version": 3
   },
   "file_extension": ".py",
   "mimetype": "text/x-python",
   "name": "python",
   "nbconvert_exporter": "python",
   "pygments_lexer": "ipython3",
   "version": "3.13.0"
  }
 },
 "nbformat": 4,
 "nbformat_minor": 5
}
