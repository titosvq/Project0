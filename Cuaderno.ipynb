{
 "cells": [
  {
   "cell_type": "code",
   "execution_count": null,
   "id": "a18e15ae-eb80-4ef6-9ebb-1c47f09ad1a3",
   "metadata": {},
   "outputs": [],
   "source": [
    "print(3 > 2 and 4 < 5)"
   ]
  },
  {
   "cell_type": "code",
   "execution_count": null,
   "id": "7ccae646-df4a-436f-a95d-5ba94155d382",
   "metadata": {},
   "outputs": [],
   "source": [
    "print(3 < 4 or (\"Hola\" > \"Python\" and 4 == 4))\n",
    "print(\"Hola\" < \"Python\" and 4 == 4)"
   ]
  },
  {
   "cell_type": "code",
   "execution_count": null,
   "id": "8eb35dc8-cc1e-42e5-8a85-324e2b502746",
   "metadata": {},
   "outputs": [],
   "source": [
    "variable = \"adolfo\"\n",
    "print(len(variable))\n",
    "variable2 = \"lopez\"\n",
    "print(f'Mi nombre es {variable} {variable2}')\n",
    "print(\"\\tadolfo\\nlopez\")"
   ]
  },
  {
   "cell_type": "code",
   "execution_count": null,
   "id": "2927e809-dba2-48fb-860e-ce6a3a9e1ca7",
   "metadata": {},
   "outputs": [],
   "source": [
    "nombre, apellido, edad = \"Adolfo\", \"Lopez\", 36\n",
    "print(\"Hola me llamo {} {} y tengo {} anos\".format(nombre, apellido, edad))\n",
    "print(\"Hola me llamo %s %s y tengo %d anos\" % (nombre, apellido, edad))"
   ]
  },
  {
   "cell_type": "code",
   "execution_count": null,
   "id": "9a4a9e30",
   "metadata": {},
   "outputs": [],
   "source": [
    "print(\"Que pasa peña\".startswith(\"Qué pasa\"))"
   ]
  },
  {
   "cell_type": "code",
   "execution_count": null,
   "id": "15a440ba-9a40-4957-a163-5969604c2cc5",
   "metadata": {},
   "outputs": [],
   "source": [
    "name = \"Adolfo\"\n",
    "print(name.startswith(\"Ad\"))"
   ]
  },
  {
   "cell_type": "code",
   "execution_count": null,
   "id": "4351e9e9-77cf-40b4-b310-5eab6a8d3ab5",
   "metadata": {},
   "outputs": [],
   "source": [
    "print(\"Probando subir a la nube\")"
   ]
  },
  {
   "cell_type": "code",
   "execution_count": null,
   "id": "520fb921",
   "metadata": {},
   "outputs": [
    {
     "name": "stdout",
     "output_type": "stream",
     "text": [
      "[36, 1.73, 'Adolfo', 'Lopez']\n",
      "4\n",
      "<class 'list'>\n",
      "36\n",
      "1\n",
      "2\n",
      "2\n",
      "Lopez\n",
      "[36, 1.73, 'Adolfo', 'Lopez', 6, 1.18, 'Jaime', 'Lopez']\n",
      "[6, 1.18, 'Jaime', 'Lopez', 36, 1.73, 'Adolfo', 'Lopez']\n",
      "[36, 1.73, 'Adolfo', 'Lopez', 36, 1.73, 'Adolfo', 'Lopez']\n",
      "[6, 1.18, 'Jaime', 'Lopez', 'Salesianos']\n",
      "[6, 1.18, 'pokemon', 'Jaime', 'Lopez', 'Salesianos']\n",
      "[6, 1.18, 'kirby', 'Jaime', 'Lopez']\n"
     ]
    }
   ],
   "source": [
    "### Listas ###\n",
    "\n",
    "my_list = list()\n",
    "my_list = [36, 1.73, \"Adolfo\", \"Lopez\"]\n",
    "\n",
    "print(my_list)\n",
    "print(len(my_list))\n",
    "print(type(my_list))\n",
    "\n",
    "print(my_list[0])\n",
    "print(my_list.count(\"Adolfo\")) # Cuenta cuantas veces aparece un elemento en la lista\n",
    "print(my_list.index(\"Adolfo\")) # Devuelve el indice de un elemento en la lista\n",
    "print(my_list.index(\"Adolfo\", 1)) # Devuelve el indice de un elemento en la lista a partir de un indice\n",
    "\n",
    "edad, altura, nombre, apellido = my_list\n",
    "\n",
    "print(apellido)\n",
    "\n",
    "my_2list = [6, 1.18, \"Jaime\", \"Lopez\"]\n",
    "\n",
    "print(my_list + my_2list)\n",
    "print(my_2list + my_list)\n",
    "print(my_list * 2)\n",
    "\n",
    "my_2list.append(\"Salesianos\") # Añade un elemento al final de la lista\n",
    "print(my_2list)\n",
    "\n",
    "my_2list.insert(2, \"pokemon\") # Añade un elemento en la posicion indicada\n",
    "print(my_2list)\n",
    "\n",
    "my_2list[2] = \"kirby\" # Modifica el elemento en la posicion indicada\n",
    "my_2list.remove(\"Salesianos\") # Elimina el primer elemento que coincida con el parametro\n",
    "print(my_2list)"
   ]
  },
  {
   "cell_type": "code",
   "execution_count": null,
   "id": "ae981b9d",
   "metadata": {},
   "outputs": [],
   "source": [
    "list_int = [8, 7, 4, 4, 5, 6, 7]\n",
    "print(list_int)\n",
    "\n",
    "print(list_int.pop()) # Elimina el ultimo elemento de la lista\n",
    "print(list_int)\n",
    "\n",
    "print(list_int.pop(4)) # Elimina el elemento de la posicion indicada\n",
    "print(list_int)\n",
    "\n",
    "variablepop = list_int.pop(4)\n",
    "print(variablepop)\n",
    "\n",
    "del list_int[0] # Elimina el elemento de la posicion indicada\n",
    "print(list_int)\n",
    "\n",
    "list_int = [8, 7, 4, 4, 5, 6, 7]\n",
    "print(list_int)\n",
    "\n",
    "my_new_list = list_int.copy() # Copia la lista\n",
    "list_int.clear() # Elimina todos los elementos de la lista\n",
    "print(my_new_list)\n",
    "\n",
    "my_new_list.reverse() # Invierte el orden de los elementos de la lista\n",
    "print(my_new_list)\n",
    "\n",
    "my_new_list.sort() # Ordena los elementos de forma ascendente\n",
    "print(my_new_list)\n"
   ]
  },
  {
   "cell_type": "code",
   "execution_count": null,
   "id": "902921a7",
   "metadata": {},
   "outputs": [],
   "source": [
    "list_int = [8, 7, 4, 4, 5, 6, 7]\n",
    "print(list_int[1:4]) # Devuelve los elementos de la posicion 1 a la 4 sin incluir la 1\n",
    "print(list_int[0:4])"
   ]
  },
  {
   "cell_type": "code",
   "execution_count": null,
   "id": "66065d4f",
   "metadata": {},
   "outputs": [],
   "source": [
    "nacimiento = input(\"Introduce tu año de nacimiento\")\n",
    "print({nacimiento})"
   ]
  },
  {
   "cell_type": "code",
   "execution_count": 21,
   "id": "7a8babef",
   "metadata": {},
   "outputs": [
    {
     "name": "stdout",
     "output_type": "stream",
     "text": [
      "('pera', 'naranja', 'manzana', 'fresa', 'pera')\n",
      "2\n",
      "3\n",
      "fresa\n",
      "('pera', 'naranja', 'manzana', 'fresa', 'pera', 'tomate', 'pimiento', 'cebolla', 'calabaza')\n",
      "('manzana', 'fresa', 'pera', 'tomate')\n",
      "<class 'list'>\n",
      "['pera', 'naranja', 'manzana', 'sandia', 'fresa', 'pera']\n",
      "6\n"
     ]
    }
   ],
   "source": [
    "tupla = tuple()\n",
    "mi_tupla = (\"pera\", \"naranja\", \"manzana\", \"fresa\", \"pera\")\n",
    "print(mi_tupla)\n",
    "\n",
    "print(mi_tupla.count(\"pera\"))\n",
    "print(mi_tupla.index(\"fresa\"))\n",
    "print(mi_tupla[3])\n",
    "\n",
    "otra_tupla = (\"tomate\", \"pimiento\", \"cebolla\", \"calabaza\")\n",
    "sumatupla = mi_tupla + otra_tupla\n",
    "print(sumatupla)\n",
    "\n",
    "print(sumatupla[2:6])\n",
    "\n",
    "mi_tupla = list(mi_tupla) # Convierto en lista\n",
    "print(type(mi_tupla))\n",
    "\n",
    "mi_tupla.insert(3, \"sandia\") #Convertido en lista si podemos anadir valores\n",
    "print(mi_tupla)\n",
    "print(len(mi_tupla))\n",
    "\n",
    "del mi_tupla\n",
    "# print(mi_tupla)    -----> NameError: name 'mi_tupla' is not defined"
   ]
  }
 ],
 "metadata": {
  "kernelspec": {
   "display_name": "Python 3",
   "language": "python",
   "name": "python3"
  },
  "language_info": {
   "codemirror_mode": {
    "name": "ipython",
    "version": 3
   },
   "file_extension": ".py",
   "mimetype": "text/x-python",
   "name": "python",
   "nbconvert_exporter": "python",
   "pygments_lexer": "ipython3",
   "version": "3.13.2"
  }
 },
 "nbformat": 4,
 "nbformat_minor": 5
}
